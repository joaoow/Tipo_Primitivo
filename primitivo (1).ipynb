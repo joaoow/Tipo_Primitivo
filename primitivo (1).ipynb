{
  "nbformat": 4,
  "nbformat_minor": 0,
  "metadata": {
    "colab": {
      "provenance": []
    },
    "kernelspec": {
      "name": "python3",
      "display_name": "Python 3"
    },
    "language_info": {
      "name": "python"
    }
  },
  "cells": [
    {
      "cell_type": "code",
      "execution_count": 2,
      "metadata": {
        "colab": {
          "base_uri": "https://localhost:8080/"
        },
        "id": "tB8y5d4GRoxV",
        "outputId": "ef59c976-d60c-40b7-c7a8-640802229bc9"
      },
      "outputs": [
        {
          "output_type": "stream",
          "name": "stdout",
          "text": [
            "Digite algo: 45\n",
            "O tipo primitivo desse valor é:  <class 'str'>\n",
            "Tem espaços?  False\n",
            "É um numero?  True\n",
            "É alfabetico?  False\n",
            "É alfanumerico?  True\n",
            "Está em maiusculos?  False\n",
            "Está em minusculo?  False\n",
            "Está capitalizada? ?  False\n"
          ]
        }
      ],
      "source": [
        "a = input(\"Digite algo: \")\n",
        "print(\"O tipo primitivo desse valor é: \", type(a)) #mostra o tipo primitivo da variavel a \"str\"\n",
        "print(\"Tem espaços? \", a.isspace()) #detecta quando vc dá espaço no campo\n",
        "print(\"É um numero? \", a.isnumeric()) #detecta se é númerico\n",
        "print(\"É alfabetico? \", a.isalpha()) #detecta se é alfabético\n",
        "print(\"É alfanumerico? \", a.isalnum()) #detecta se é alfanumerico\n",
        "print(\"Está em maiusculos? \", a.isupper()) #detecta se está em maiusculo\n",
        "print(\"Está em minusculo? \", a.islower()) #detecta se está minusculo\n",
        "print(\"Está capitalizada? ? \", a.istitle()) #detecta se está capitalizada ex: Python, João, Pedro"
      ]
    }
  ]
}